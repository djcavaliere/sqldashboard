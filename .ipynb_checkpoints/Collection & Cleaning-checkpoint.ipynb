{
 "cells": [
  {
   "cell_type": "markdown",
   "id": "91594a42-ebeb-4769-a9be-de5ac06ebf79",
   "metadata": {},
   "source": [
    "### Project Overview\n",
    "Finance & Operations gave us a fairly high level task of building a dashboard to help them stay on top of how the business is performing in Q3'17. After some back and forth we aligned on two asks to incorporate into our dashboard, an overview with how the financials are trending and some insights on which categories and items are driving the business.\n",
    "\n",
    "For this project I will be utilizing a dataset from the Department of Commerce which includes transactional data from liquor stores in Iowa over a 5 year span from 2012-2017. In this notebook I will load in the data, clean, and explore the data in python before exporting and loading it into multiple tables so that I can write some custom SQL queries and build a dashboard to visualize and track various metrics related to Iowa Liquor Sales."
   ]
  },
  {
   "cell_type": "markdown",
   "id": "0ac00dc5-7828-49e8-adc0-1ed7be0afe18",
   "metadata": {},
   "source": [
    "#### Data Collection"
   ]
  },
  {
   "cell_type": "code",
   "execution_count": 1,
   "id": "9ad4f31b-53a2-40af-a829-e6f3dde787b6",
   "metadata": {},
   "outputs": [],
   "source": [
    "#import libraries\n",
    "import pandas as pd"
   ]
  },
  {
   "cell_type": "code",
   "execution_count": 2,
   "id": "3b37bc03-a7f0-4cdd-b072-2d457c853040",
   "metadata": {},
   "outputs": [
    {
     "name": "stderr",
     "output_type": "stream",
     "text": [
      "C:\\Users\\dylan\\AppData\\Local\\Temp\\ipykernel_10040\\3838920384.py:2: DtypeWarning: Columns (6) have mixed types. Specify dtype option on import or set low_memory=False.\n",
      "  data = pd.read_csv('./data/Iowa_Liquor_Sales.csv')\n"
     ]
    }
   ],
   "source": [
    "#load raw data from excel\n",
    "data = pd.read_csv('./data/Iowa_Liquor_Sales.csv')"
   ]
  },
  {
   "cell_type": "code",
   "execution_count": 3,
   "id": "d5b99b32-9ec4-4bea-a57d-96758340e6e7",
   "metadata": {},
   "outputs": [
    {
     "name": "stdout",
     "output_type": "stream",
     "text": [
      "<class 'pandas.core.frame.DataFrame'>\n",
      "RangeIndex: 12591077 entries, 0 to 12591076\n",
      "Data columns (total 24 columns):\n",
      " #   Column                 Dtype  \n",
      "---  ------                 -----  \n",
      " 0   Invoice/Item Number    object \n",
      " 1   Date                   object \n",
      " 2   Store Number           int64  \n",
      " 3   Store Name             object \n",
      " 4   Address                object \n",
      " 5   City                   object \n",
      " 6   Zip Code               object \n",
      " 7   Store Location         object \n",
      " 8   County Number          float64\n",
      " 9   County                 object \n",
      " 10  Category               float64\n",
      " 11  Category Name          object \n",
      " 12  Vendor Number          float64\n",
      " 13  Vendor Name            object \n",
      " 14  Item Number            int64  \n",
      " 15  Item Description       object \n",
      " 16  Pack                   int64  \n",
      " 17  Bottle Volume (ml)     int64  \n",
      " 18  State Bottle Cost      object \n",
      " 19  State Bottle Retail    object \n",
      " 20  Bottles Sold           int64  \n",
      " 21  Sale (Dollars)         object \n",
      " 22  Volume Sold (Liters)   float64\n",
      " 23  Volume Sold (Gallons)  float64\n",
      "dtypes: float64(5), int64(5), object(14)\n",
      "memory usage: 2.3+ GB\n"
     ]
    }
   ],
   "source": [
    "#Overview of the data and data types\n",
    "data.info()"
   ]
  },
  {
   "cell_type": "code",
   "execution_count": 178,
   "id": "7dced19e-9ca0-43cf-84e3-0cd812cf7937",
   "metadata": {},
   "outputs": [
    {
     "data": {
      "text/html": [
       "<div>\n",
       "<style scoped>\n",
       "    .dataframe tbody tr th:only-of-type {\n",
       "        vertical-align: middle;\n",
       "    }\n",
       "\n",
       "    .dataframe tbody tr th {\n",
       "        vertical-align: top;\n",
       "    }\n",
       "\n",
       "    .dataframe thead th {\n",
       "        text-align: right;\n",
       "    }\n",
       "</style>\n",
       "<table border=\"1\" class=\"dataframe\">\n",
       "  <thead>\n",
       "    <tr style=\"text-align: right;\">\n",
       "      <th></th>\n",
       "      <th>Bottles Sold</th>\n",
       "      <th>Item Number</th>\n",
       "      <th>Item Description</th>\n",
       "      <th>State Bottle Cost</th>\n",
       "      <th>State Bottle Retail</th>\n",
       "      <th>Sale (Dollars)</th>\n",
       "    </tr>\n",
       "  </thead>\n",
       "  <tbody>\n",
       "    <tr>\n",
       "      <th>11802900</th>\n",
       "      <td>1</td>\n",
       "      <td>73054</td>\n",
       "      <td>Rumchata</td>\n",
       "      <td>$24.34</td>\n",
       "      <td>$36.51</td>\n",
       "      <td>$219.06</td>\n",
       "    </tr>\n",
       "    <tr>\n",
       "      <th>11817652</th>\n",
       "      <td>3</td>\n",
       "      <td>82627</td>\n",
       "      <td>Dekuyper Cherry Pucker</td>\n",
       "      <td>$7.87</td>\n",
       "      <td>$11.81</td>\n",
       "      <td>$141.72</td>\n",
       "    </tr>\n",
       "    <tr>\n",
       "      <th>11817653</th>\n",
       "      <td>5</td>\n",
       "      <td>21596</td>\n",
       "      <td>Ten High</td>\n",
       "      <td>$4.10</td>\n",
       "      <td>$6.15</td>\n",
       "      <td>$73.80</td>\n",
       "    </tr>\n",
       "    <tr>\n",
       "      <th>11817654</th>\n",
       "      <td>2</td>\n",
       "      <td>31719</td>\n",
       "      <td>Phillips Gin</td>\n",
       "      <td>$4.38</td>\n",
       "      <td>$6.57</td>\n",
       "      <td>$78.84</td>\n",
       "    </tr>\n",
       "    <tr>\n",
       "      <th>11817655</th>\n",
       "      <td>2</td>\n",
       "      <td>34972</td>\n",
       "      <td>Three Olives Cherry Vodka</td>\n",
       "      <td>$9.96</td>\n",
       "      <td>$14.94</td>\n",
       "      <td>$179.28</td>\n",
       "    </tr>\n",
       "  </tbody>\n",
       "</table>\n",
       "</div>"
      ],
      "text/plain": [
       "          Bottles Sold  Item Number           Item Description  \\\n",
       "11802900             1        73054                   Rumchata   \n",
       "11817652             3        82627     Dekuyper Cherry Pucker   \n",
       "11817653             5        21596                   Ten High   \n",
       "11817654             2        31719               Phillips Gin   \n",
       "11817655             2        34972  Three Olives Cherry Vodka   \n",
       "\n",
       "         State Bottle Cost State Bottle Retail Sale (Dollars)  \n",
       "11802900            $24.34              $36.51        $219.06  \n",
       "11817652             $7.87              $11.81        $141.72  \n",
       "11817653             $4.10               $6.15         $73.80  \n",
       "11817654             $4.38               $6.57         $78.84  \n",
       "11817655             $9.96              $14.94        $179.28  "
      ]
     },
     "execution_count": 178,
     "metadata": {},
     "output_type": "execute_result"
    }
   ],
   "source": [
    "#convert date to datetime\n",
    "data['Date'] = pd.to_datetime(data['Date'])\n",
    "\n",
    "#filter down on Q3'17\n",
    "df = data[(data['Date'].dt.year == 2017) & ((data['Date'].dt.month == 7) |(data['Date'].dt.month == 8) | (data['Date'].dt.month == 9))]\n",
    "\n",
    "#Visualize the data\n",
    "df.head()[['Bottles Sold', 'Item Number', 'Item Description', 'State Bottle Cost', 'State Bottle Retail', 'Sale (Dollars)']]"
   ]
  },
  {
   "cell_type": "markdown",
   "id": "2e2f1390-8f94-4f3e-8a07-52eeae3c2c60",
   "metadata": {},
   "source": [
    "#### Data Cleaning\n",
    "\n",
    "Cleaning Steps \n",
    "1. Check for Duplicates\n",
    "2. Handle Null Values (Drop or Impute)\n",
    "3. Convert to appropriate Data Types\n",
    "4. Validations (Outliers, Categories, Equations)"
   ]
  },
  {
   "cell_type": "code",
   "execution_count": 179,
   "id": "e31a8256-7e1f-4723-827e-abce072775f3",
   "metadata": {},
   "outputs": [
    {
     "name": "stdout",
     "output_type": "stream",
     "text": [
      "572281, 572281\n"
     ]
    }
   ],
   "source": [
    "#Check for duplicates -- No Duplicate Invoices\n",
    "print(f\"{df['Invoice/Item Number'].nunique()}, {len(df)}\")"
   ]
  },
  {
   "cell_type": "code",
   "execution_count": 180,
   "id": "d2502ccb-7d09-4e76-a6d5-98f10845ab41",
   "metadata": {},
   "outputs": [
    {
     "name": "stderr",
     "output_type": "stream",
     "text": [
      "C:\\Users\\dylan\\AppData\\Local\\Temp\\ipykernel_10040\\1127832494.py:2: SettingWithCopyWarning: \n",
      "A value is trying to be set on a copy of a slice from a DataFrame.\n",
      "Try using .loc[row_indexer,col_indexer] = value instead\n",
      "\n",
      "See the caveats in the documentation: https://pandas.pydata.org/pandas-docs/stable/user_guide/indexing.html#returning-a-view-versus-a-copy\n",
      "  df['Sale (Dollars)'] = df['Sale (Dollars)'].str.replace('$', '', regex = True)\n",
      "C:\\Users\\dylan\\AppData\\Local\\Temp\\ipykernel_10040\\1127832494.py:3: SettingWithCopyWarning: \n",
      "A value is trying to be set on a copy of a slice from a DataFrame.\n",
      "Try using .loc[row_indexer,col_indexer] = value instead\n",
      "\n",
      "See the caveats in the documentation: https://pandas.pydata.org/pandas-docs/stable/user_guide/indexing.html#returning-a-view-versus-a-copy\n",
      "  df['State Bottle Cost'] = df['State Bottle Cost'].str.replace('$', '', regex = True)\n",
      "C:\\Users\\dylan\\AppData\\Local\\Temp\\ipykernel_10040\\1127832494.py:4: SettingWithCopyWarning: \n",
      "A value is trying to be set on a copy of a slice from a DataFrame.\n",
      "Try using .loc[row_indexer,col_indexer] = value instead\n",
      "\n",
      "See the caveats in the documentation: https://pandas.pydata.org/pandas-docs/stable/user_guide/indexing.html#returning-a-view-versus-a-copy\n",
      "  df['State Bottle Retail'] = df['State Bottle Retail'].str.replace('$', '', regex = True)\n"
     ]
    }
   ],
   "source": [
    "#Removing the dollar sign so I can update strings to numeric datatypes\n",
    "df['Sale (Dollars)'] = df['Sale (Dollars)'].str.replace('$', '', regex = True)\n",
    "df['State Bottle Cost'] = df['State Bottle Cost'].str.replace('$', '', regex = True)\n",
    "df['State Bottle Retail'] = df['State Bottle Retail'].str.replace('$', '', regex = True)"
   ]
  },
  {
   "cell_type": "code",
   "execution_count": 181,
   "id": "82b1c3d0-3e12-4f9b-bce1-560d336e5b9c",
   "metadata": {},
   "outputs": [
    {
     "data": {
      "text/plain": [
       "Invoice/Item Number        0\n",
       "Date                       0\n",
       "Store Number               0\n",
       "Store Name                 0\n",
       "Address                  301\n",
       "City                     301\n",
       "Zip Code                 301\n",
       "Store Location           301\n",
       "County Number            301\n",
       "County                   301\n",
       "Category                 962\n",
       "Category Name            962\n",
       "Vendor Number              0\n",
       "Vendor Name                0\n",
       "Item Number                0\n",
       "Item Description           0\n",
       "Pack                       0\n",
       "Bottle Volume (ml)         0\n",
       "State Bottle Cost          0\n",
       "State Bottle Retail        0\n",
       "Bottles Sold               0\n",
       "Sale (Dollars)             0\n",
       "Volume Sold (Liters)       0\n",
       "Volume Sold (Gallons)      0\n",
       "dtype: int64"
      ]
     },
     "execution_count": 181,
     "metadata": {},
     "output_type": "execute_result"
    }
   ],
   "source": [
    "#Update the datatypes\n",
    "dtype_dic = {'Store Number': 'string', 'County Number':'string', 'Vendor Number':'string', \n",
    "             'Category': 'string', 'Item Number': 'string', 'State Bottle Cost':'float64',\n",
    "            'State Bottle Retail':'float64', 'Sale (Dollars)': 'float64', 'Category Name': 'string'} \n",
    "df = df.astype(dtype_dic)\n",
    "\n",
    "#Check for Null Values\n",
    "df.isna().sum()"
   ]
  },
  {
   "cell_type": "markdown",
   "id": "c44f992e-64d4-4b38-8b65-0955841739e5",
   "metadata": {},
   "source": [
    "##### Category Cleaning\n",
    "To handle null values we have a few options. We can impute the null value as our best guess which may either be 0, some type of average (mean, median, mode), we could use linear regression, or we could use related entries. Lastly, a less preferred method would be to drop the entire row for each null value, this is typically a last resort option if we feel like we cannot make a best guess and the analysis does not require all data points to be captured. \n",
    "\n",
    "To handle null categories I can impute the value using the category from non null invoices of the same item. Further, in investigating the null categories I identified some flaws in category assignment. There are significant redundancies in different categories and there is also an opportunity to group categories into parent categories. Example 'American Vodka', 'American Vodkas', 'American Flavored Vodka' these can all be aggregated into one category. I will consolidate redundant categories and group categories into parent categories based on the types of alcohol (Whisky, Vodka, Tequila, etc)."
   ]
  },
  {
   "cell_type": "code",
   "execution_count": 182,
   "id": "ee598da4-46a6-4c4f-a1f8-b8d9e5db3efd",
   "metadata": {},
   "outputs": [
    {
     "data": {
      "text/html": [
       "<div>\n",
       "<style scoped>\n",
       "    .dataframe tbody tr th:only-of-type {\n",
       "        vertical-align: middle;\n",
       "    }\n",
       "\n",
       "    .dataframe tbody tr th {\n",
       "        vertical-align: top;\n",
       "    }\n",
       "\n",
       "    .dataframe thead th {\n",
       "        text-align: right;\n",
       "    }\n",
       "</style>\n",
       "<table border=\"1\" class=\"dataframe\">\n",
       "  <thead>\n",
       "    <tr style=\"text-align: right;\">\n",
       "      <th></th>\n",
       "      <th>Category</th>\n",
       "      <th>Category Name</th>\n",
       "    </tr>\n",
       "    <tr>\n",
       "      <th>Item Number</th>\n",
       "      <th></th>\n",
       "      <th></th>\n",
       "    </tr>\n",
       "  </thead>\n",
       "  <tbody>\n",
       "    <tr>\n",
       "      <th>88152</th>\n",
       "      <td>2</td>\n",
       "      <td>2</td>\n",
       "    </tr>\n",
       "  </tbody>\n",
       "</table>\n",
       "</div>"
      ],
      "text/plain": [
       "             Category  Category Name\n",
       "Item Number                         \n",
       "88152               2              2"
      ]
     },
     "execution_count": 182,
     "metadata": {},
     "output_type": "execute_result"
    }
   ],
   "source": [
    "distinct_category_item = df.groupby('Item Number')[['Category', 'Category Name']].nunique().sort_values(by = 'Category', ascending = False)\n",
    "distinct_category_item[distinct_category_item['Category'] > 1]"
   ]
  },
  {
   "cell_type": "code",
   "execution_count": 184,
   "id": "646afa6d-1231-4016-9c78-2bfe57ea9e8a",
   "metadata": {},
   "outputs": [],
   "source": [
    "#Consolidate Redundant Categories\n",
    "\n",
    "#dictionary of old and new values \n",
    "name_dict = {'American Vodkas' : 'American Vodka', 'American Flavored Vodka' : 'American Vodka', \n",
    "             'Imported Vodkas': 'Imported Vodka', 'American Cordials & Liqueurs' : 'American Cordials & Liqueur', \n",
    "             'Cocktails /RTD': 'Cocktails / RTD', 'American Distilled Spirits Specialty': 'American Distilled Spirit Specialty',\n",
    "            'Iowa Distillery Whiskies' : 'Iowa Distilleries', 'Temporary &  Specialty Packages':'Temporary & Specialty Packages', \n",
    "             'Imported Flavored Vodka' : 'Imported Vodka', 'Imported Distilled Spirits Specialty':'Imported Distilled Spirit Specialty',\n",
    "            'Imported Cordials & Liqueur' : 'Imported Cordials & Liqueurs', 'Neutral Grain Spirits Flavored':'Neutral Grain Spirits'}\n",
    "\n",
    "number_dict = {'1031100.0' : '1031000.0', '1031200.0': '1031000.0', '1032100.0': '1032000.0',\n",
    "              '1070000.0' : '1071100.0', '1081000.0' : '1081300.0', '1091000.0': '1091100.0', \n",
    "              '1011800.0' : '1091400.0', '1700000.0' : '1701100.0', '1032200.0' : '1032000.0',\n",
    "              '1092000.0' : '1092100.0', '1082100.0': '1082000.0', '1091300.0' :'1091200.0'}\n",
    "\n",
    "#replacing values using dictionaries\n",
    "df['Category'] = df['Category'].replace(number_dict)\n",
    "df['Category Name'] = df['Category Name'].replace(name_dict)\n",
    "\n",
    "#Grouping Items into Parent Categories\n",
    "\n",
    "#define the parent categories for each sub category\n",
    "parent_cats = {'Straight Bourbon Whiskies': 'Whisky','Scotch Whiskies':'Whisky', 'Blended Whiskies':'Whisky', 'Canadian Whiskies':'Whisky','Irish Whiskies':'Whisky', 'Tennessee Whiskies':'Whisky',  \n",
    "         'Single Malt Scotch':'Whisky', 'Single Barrel Bourbon Whiskies':'Whisky', 'Straight Rye Whiskies':'Whisky', 'Corn Whiskies':'Whisky', 'Bottled in Bond Bourbon':'Whisky', \n",
    "          'Imported Vodka':'Vodka', 'American Vodka': 'Vodka', 'American Dry Gins':'Gin', 'Imported Dry Gins':'Gin', 'American Sloe Gins':'Gin', 'Flavored Gin':'Gin',\n",
    "         'Flavored Rum': 'Rum','Spiced Rum':'Rum', 'White Rum':'Rum', 'Gold Rum':'Rum', 'Aged Dark Rum':'Rum', '100% Agave Tequila':'Tequila', 'Mixto Tequila':'Tequila', 'Mezcal':'Tequila',\n",
    "          'Imported Brandies':'Brandy', 'American Brandies':'Brandy', 'Cream Liqueurs':'Liquer', 'Imported Cordials & Liqueurs':'Liquer', 'Whiskey Liqueur':'Liquer', 'American Cordials & Liqueur':'Liquer', \n",
    "          'Coffee Liqueurs':'Liquer', 'American Schnapps':'Other','Temporary & Specialty Packages':'Other', 'Imported Schnapps':'Other', 'Cocktails / RTD':'Other', 'Neutral Grain Spirits':'Other', \n",
    "          'Triple Sec':'Other', 'American Distilled Spirit Specialty':'Other','Iowa Distilleries':'Other', 'Special Order Items':'Other','Imported Distilled Spirit Specialty':'Other', 'Delisted Items':'Other'}\n",
    "\n",
    "#create a new parent category feature and assign parent from dictionary\n",
    "df['Parent Category'] = [parent_cats.get(cat) for cat in df['Category Name']]"
   ]
  },
  {
   "cell_type": "code",
   "execution_count": 185,
   "id": "1adf1ca2-074f-4838-8485-eeaa0f8bfda1",
   "metadata": {},
   "outputs": [],
   "source": [
    "#Impute null categories based on Item Number\n",
    "\n",
    "#filter on items with non null categories\n",
    "non_null_cat = df[df['Category'].isna() == False]\n",
    "non_null_cat_name = df[df['Category Name'].isna() == False]\n",
    "\n",
    "#create a dictionary mapping the item and category\n",
    "item_cat_dict = non_null_cat.set_index('Item Number')['Category'].to_dict()\n",
    "\n",
    "#create a dictionairy mapping the item and the category name\n",
    "item_catname_dict = non_null_cat_name.set_index('Item Number')['Category Name'].to_dict()\n",
    "\n",
    "#creating lists of the category number and names using the item dictionaries created above \n",
    "category_num = []\n",
    "for x in df['Item Number']:\n",
    "    category_num.append(item_cat_dict.get(x))\n",
    "\n",
    "category_name = []\n",
    "for x in df['Item Number']:\n",
    "    category_name.append(item_catname_dict.get(x))\n",
    "\n",
    "#updating the category number and name using lists from the search above\n",
    "df['Category'] = category_num\n",
    "df['Category Name'] = category_name"
   ]
  },
  {
   "cell_type": "code",
   "execution_count": 186,
   "id": "8b2b976f-7b73-4017-a5bf-874a8fda157a",
   "metadata": {},
   "outputs": [],
   "source": [
    "#Impute null location features based on store numbers\n",
    "\n",
    "#filter on stores with non null location data\n",
    "non_null_store = df[df['Address'].isna() == False]\n",
    "\n",
    "#create a dictionary mapping the store and location features\n",
    "store_add = non_null_store.set_index('Store Number')[['Address', 'County', 'County Number', 'Zip Code', 'Store Location', 'City']].to_dict()\n",
    "\n",
    "#creating lists of the category number and names using the item dictionaries created above \n",
    "address = []\n",
    "for store in df['Store Number']:\n",
    "    address.append(list(store_add.items())[0][1].get(store))\n",
    "\n",
    "county = []\n",
    "for store in df['Store Number']:\n",
    "    county.append(list(store_add.items())[1][1].get(store))\n",
    "    \n",
    "County_num = []\n",
    "for store in df['Store Number']:\n",
    "    County_num.append(list(store_add.items())[2][1].get(store))\n",
    "    \n",
    "Zip = []\n",
    "for store in df['Store Number']:\n",
    "    Zip.append(list(store_add.items())[3][1].get(store))\n",
    "    \n",
    "location = []\n",
    "for store in df['Store Number']:\n",
    "    location.append(list(store_add.items())[4][1].get(store))\n",
    "    \n",
    "city = []\n",
    "for store in df['Store Number']:\n",
    "    city.append(list(store_add.items())[5][1].get(store))\n",
    "    \n",
    "\n",
    "#updating the location features based on non null store values\n",
    "df['Address'] = address  \n",
    "df['County'] = county\n",
    "df['County Number'] = County_num\n",
    "df['Zip Code'] = Zip\n",
    "df['Store Location'] = location\n",
    "df['City'] = city"
   ]
  },
  {
   "cell_type": "code",
   "execution_count": 187,
   "id": "d555bf70-8e03-4a3e-bc42-54f1aa000882",
   "metadata": {
    "scrolled": true,
    "tags": []
   },
   "outputs": [
    {
     "data": {
      "text/plain": [
       "{'Figenza Mediterranean Fig Vodka': 'Vodka',\n",
       " 'Hawkeye Bacon Vodka': 'Vodka',\n",
       " \"Ole Smoky White Lightnin' Moonshine\": 'Other',\n",
       " 'Revel Stoke Spiced': 'Other',\n",
       " \"Maker's Mark Co-Pack\": 'Other',\n",
       " 'Cedar Ridge Reserve Bourbon': 'Whisky',\n",
       " 'Pride of the Wapsi': 'Other',\n",
       " 'Big Peach Liqueur': 'Liquer',\n",
       " 'Barbados Rum 200 ml': 'Rum',\n",
       " 'Barbados Rum 1 Liter': 'Rum',\n",
       " 'Grapefruit Liqueur': 'Liquer',\n",
       " 'Spanish Single Malt 200ml': 'Whisky',\n",
       " 'Spanish Single Malt 1 Liter': 'Whisky',\n",
       " 'Old Forester 1920': 'Other',\n",
       " 'Cedar Ridge American Whiskey Explorer Pack': 'Whisky',\n",
       " 'Jose Cuervo Especial Silver/Flask': 'Other',\n",
       " 'Jose Cuervo Especial Gold /Flask': 'Other',\n",
       " 'Haymans Old Tom Gin': 'Gin',\n",
       " 'Three Olives Vanilla': 'Other',\n",
       " 'Ron Abuelo Anejo 7YR': 'Other',\n",
       " \"Sammy's Beach Bar Rum\": 'Rum',\n",
       " 'Hiram Walker Coffee Brandy': 'Brandy',\n",
       " 'Kavalan Concertmaster': 'Other',\n",
       " 'Ketel One Oranje': 'Other',\n",
       " 'Aalborg Jubilaeums Aquavit': 'Other',\n",
       " 'Kauai Coconut Hawaiian Rum': 'Rum',\n",
       " 'Hennessy VS Flask': 'Other',\n",
       " \"Aberlour A''bunadh\": 'Other',\n",
       " 'Dekuyper Cranberry Crush': 'Other',\n",
       " 'El Mayor Extra Anejo 100% Agave': 'Tequila',\n",
       " 'Cruzan Key Lime': 'Other',\n",
       " '99 Watermelon Mini': 'Other',\n",
       " 'Calico Jack Pineapple': 'Other',\n",
       " 'Spanish Single Malt 375ml': 'Whisky',\n",
       " 'Great Glen 8 yr': 'Other',\n",
       " 'Irish Single Malt 14yr-Brother in Arms': 'Whisky',\n",
       " 'Two Casks- Caol IIa & Speyburn Sherry': 'Other',\n",
       " 'Red Stag Black Cherry Mini': 'Other',\n",
       " 'New Amsterdam Peach': 'Other',\n",
       " 'Deep Eddy  Lemon Vodka': 'Vodka',\n",
       " 'Bastille 1789': 'Other',\n",
       " 'Diplomatico Reserva Exclusiva': 'Other',\n",
       " \"Fulton's Harvest Pumpkin Liqueur\": 'Liquer',\n",
       " 'Ansac VS  Cognac': 'Other',\n",
       " 'Midnight Moon Raspberry': 'Other',\n",
       " 'Eagle Rare Single Barrel Buy the Barrel': 'Other',\n",
       " 'Evan Williams Kentucky Cider': 'Other',\n",
       " 'Koval Oat': 'Other',\n",
       " 'Burnetts Cherry Limeade': 'Other',\n",
       " 'Burnetts Appleberry': 'Other',\n",
       " 'Barbados Rum 375ml': 'Rum',\n",
       " 'Spanish Single Malt 100ml': 'Whisky',\n",
       " 'Avion Espresso': 'Other',\n",
       " 'Fireball Bag in Box': 'Other',\n",
       " 'Captain Morgan Jack-O Blast Mini': 'Other',\n",
       " 'Captain Morgan Jack-O Blast': 'Other',\n",
       " 'Benromach 10YR': 'Other',\n",
       " 'Baileys Pumpkin Spice Irish Cream': 'Other',\n",
       " 'Baileys Pumpkin Spice Irish Cream Mini': 'Other',\n",
       " 'Rondiaz Rum Spiced Black Cherry Mini': 'Rum',\n",
       " \"Fulton's Harvest Apple Pie Liqueur\": 'Liquer',\n",
       " 'Clix Vodka': 'Vodka',\n",
       " 'Black Saddle Bourbon': 'Whisky',\n",
       " 'Pinnacle Chocolate Whipped': 'Other',\n",
       " 'Ezra Brooks Bourbon Cream Mini': 'Whisky',\n",
       " 'Skyy Infusions Blood Orange': 'Other',\n",
       " 'Glenmorangie Original w/ Quinta Ruban & Lasanta': 'Other',\n",
       " 'Black Currant Liqueur Creme de Cassis': 'Liquer',\n",
       " 'Smirnoff Peppermint Twist': 'Other',\n",
       " 'Bains Cape Mountain Whiskey': 'Whisky',\n",
       " 'Smirnoff Peppermint Twist Mini': 'Other',\n",
       " 'Don Amado Mezcal Rustico': 'Tequila',\n",
       " \"Michter's US*1 SB Rye\": 'Whisky',\n",
       " 'Stolichnaya Hot': 'Other',\n",
       " 'Ri(1) Whiskey': 'Whisky',\n",
       " 'Blue Chair Bay Banana Rum Cream': 'Rum',\n",
       " '99 Grapes': 'Other',\n",
       " '99 Oranges Mini': 'Other',\n",
       " \"Tim Smith's Climax Fire #32\": 'Other',\n",
       " 'Yellowstone Select': 'Other',\n",
       " '99 Oranges': 'Other'}"
      ]
     },
     "execution_count": 187,
     "metadata": {},
     "output_type": "execute_result"
    }
   ],
   "source": [
    "#Using Item Descriptions for Category Keywords to Impute null Category\n",
    "parent_dict = {}\n",
    "for x in df[df['Category'].isna() == True]['Item Description'].unique():\n",
    "    if 'Vodka' in x.split():\n",
    "        parent_dict[x] = 'Vodka'\n",
    "    elif 'Whisky' in x.split():\n",
    "        parent_dict[x] = 'Whisky'\n",
    "    elif 'Rye' in x.split():\n",
    "        parent_dict[x] = 'Whisky'\n",
    "    elif 'Malt' in x.split():\n",
    "        parent_dict[x] = 'Whisky'\n",
    "    elif 'Bourbon' in x.split():\n",
    "        parent_dict[x] = 'Whisky'\n",
    "    elif 'Whiskey' in x.split():\n",
    "        parent_dict[x] = 'Whisky'\n",
    "    elif 'Liqueur' in x.split():\n",
    "        parent_dict[x] = 'Liquer'\n",
    "    elif 'Rum' in x.split():\n",
    "        parent_dict[x] = 'Rum'\n",
    "    elif 'Brandy' in x.split():\n",
    "        parent_dict[x] = 'Brandy'\n",
    "    elif 'Tequila' in x.split():\n",
    "        parent_dict[x] = 'Tequila'\n",
    "    elif 'Mezcal' in x.split():\n",
    "        parent_dict[x] = 'Tequila'\n",
    "    elif 'Agave' in x.split():\n",
    "        parent_dict[x] = 'Tequila'\n",
    "    elif 'Gin' in x.split():\n",
    "        parent_dict[x] = 'Gin'\n",
    "    else:\n",
    "        parent_dict[x] = 'Other'\n",
    "\n",
    "additional_nulls = ['99 Grapes', '99 Oranges Mini', \"Tim Smith's Climax Fire #32\", 'Yellowstone Select', '99 Oranges']\n",
    "for item in additional_nulls:\n",
    "    parent_dict[item] = 'Other'\n",
    "\n",
    "parent_dict"
   ]
  },
  {
   "cell_type": "code",
   "execution_count": 188,
   "id": "d3626b3d-d39a-4ef1-ac5e-6522abdfcc3e",
   "metadata": {},
   "outputs": [],
   "source": [
    "#Using the dictionary above to update the categories for null values\n",
    "for item in df['Item Description']:\n",
    "    for desc, cat in parent_dict.items():\n",
    "        if item == desc:\n",
    "            df.loc[df['Item Description'] == desc, 'Parent Category'] = cat"
   ]
  },
  {
   "cell_type": "code",
   "execution_count": 191,
   "id": "68c25a8e-813e-443c-bf56-b61c71ba9d1f",
   "metadata": {},
   "outputs": [
    {
     "data": {
      "text/plain": [
       "Invoice/Item Number      0\n",
       "Date                     0\n",
       "Store Number             0\n",
       "Store Name               0\n",
       "Address                  0\n",
       "City                     0\n",
       "Zip Code                 0\n",
       "Store Location           0\n",
       "County Number            0\n",
       "County                   0\n",
       "Category                 0\n",
       "Category Name            0\n",
       "Vendor Number            0\n",
       "Vendor Name              0\n",
       "Item Number              0\n",
       "Item Description         0\n",
       "Pack                     0\n",
       "Bottle Volume (ml)       0\n",
       "State Bottle Cost        0\n",
       "State Bottle Retail      0\n",
       "Bottles Sold             0\n",
       "Sale (Dollars)           0\n",
       "Volume Sold (Liters)     0\n",
       "Volume Sold (Gallons)    0\n",
       "Parent Category          0\n",
       "dtype: int64"
      ]
     },
     "execution_count": 191,
     "metadata": {},
     "output_type": "execute_result"
    }
   ],
   "source": [
    "#Since I have imputed a parent category I will simply fill na's for the subcategories\n",
    "df['Category'].fillna('Use Parent Category', inplace = True)\n",
    "df['Category Name'].fillna('Use Parent Category', inplace = True)\n",
    "\n",
    "df.isna().sum()"
   ]
  },
  {
   "cell_type": "code",
   "execution_count": 194,
   "id": "af970d40-8913-48da-b131-d8508556f314",
   "metadata": {},
   "outputs": [],
   "source": [
    "#dropping the last two digits to clean the formating\n",
    "df['Vendor Number'] = [num[:-2] for num in df['Vendor Number']]\n",
    "df['County Number'] = [num[:-2] for num in df['County Number']]\n",
    "df['Category'] = [num[:-2] for num in df['Category']]"
   ]
  },
  {
   "cell_type": "code",
   "execution_count": 195,
   "id": "63278d63-acd5-4218-9efd-7f1e0f7c41cc",
   "metadata": {},
   "outputs": [],
   "source": [
    "#Creating the tables\n",
    "items = df.set_index('Item Number')[['Item Description', 'Category', 'Category Name', 'Parent Category',\n",
    "                                        'Pack', 'Bottle Volume (ml)', 'State Bottle Cost', \n",
    "                                         'State Bottle Retail']].drop_duplicates()\n",
    "items.reset_index(inplace = True)\n",
    "\n",
    "stores = df.set_index('Store Number')[['Store Name', 'County', 'County Number', 'City', 'Zip Code']].drop_duplicates()\n",
    "stores.reset_index(inplace = True)\n",
    "\n",
    "vendors = df.set_index('Vendor Number')[['Vendor Name']].drop_duplicates()\n",
    "vendors.reset_index(inplace = True)\n",
    "\n",
    "orders = df[['Invoice/Item Number', 'Date', 'Store Number', 'Item Number', 'Vendor Number', \n",
    "            'Bottles Sold','State Bottle Cost', 'State Bottle Retail', 'Sale (Dollars)', \n",
    "             'Volume Sold (Liters)', 'Volume Sold (Gallons)']]\n",
    "\n",
    "#save to csv so I can export into BigQuery for SQL Exploration/Dashboarding\n",
    "#items.to_csv('items.csv')\n",
    "#stores.to_csv('stores.csv')\n",
    "# vendors.to_csv('vendors.csv')\n",
    "# orders.to_csv('orders.csv')"
   ]
  },
  {
   "cell_type": "markdown",
   "id": "9cff872e-0ecc-4dc3-ba00-6abb709a700f",
   "metadata": {},
   "source": [
    "### Data Inconsistencies\n",
    "In reviewing the data descriptions from kaggle I would assume that Sale (Dollars) should equal the product of bottles sold and state bottle retail however as seen below I ran a quick formula to validate this and it is in fact not the case. The majority of invoices were calculated as the product of the 'Pack' and 'State Bottle Retail', however there are 3060 invoices that were not calculated according to this logic. In the real world I would I dive deeper into how this data is being recorded to determine whether there are discounts being applied in store that are not being captured in the retail price or if these are due to data entry errors. "
   ]
  },
  {
   "cell_type": "code",
   "execution_count": 196,
   "id": "a7acec5e-dbe3-493d-a839-09aa9a9c952a",
   "metadata": {},
   "outputs": [
    {
     "name": "stdout",
     "output_type": "stream",
     "text": [
      "Total Invoices: 572281\n",
      "Invoices w/Sales = Retail*Bottles Sold: 278182\n"
     ]
    }
   ],
   "source": [
    "#Validating if Sales Feature is a product of bottles sold and retail price\n",
    "#It appears this Sales is not a product of bottles sold and bottle retail\n",
    "print(f'Total Invoices: {len(df)}') \n",
    "print(f\"Invoices w/Sales = Retail*Bottles Sold: {len(df[abs(df['Sale (Dollars)'] - (df['Bottles Sold'] * df['State Bottle Retail']) < 1)])}\")"
   ]
  },
  {
   "cell_type": "code",
   "execution_count": 197,
   "id": "acc7b6e1-d26e-411c-b8be-2f2715b9e1ec",
   "metadata": {},
   "outputs": [
    {
     "name": "stdout",
     "output_type": "stream",
     "text": [
      "Total Invoices: 572281\n",
      "Invoices w/Sales = Retail*Pack Sold 569219\n"
     ]
    }
   ],
   "source": [
    "#Validating if Sales Feature is a product of packs sold and retail price\n",
    "print(f'Total Invoices: {len(df)}')\n",
    "print(f\"Invoices w/Sales = Retail*Pack Sold {len(df[abs(df['Sale (Dollars)'] - (df['Pack'] * df['State Bottle Retail']) < 1)])}\")"
   ]
  },
  {
   "cell_type": "code",
   "execution_count": 198,
   "id": "07ec3ad9-769a-4426-bb6f-024d536f8aa2",
   "metadata": {},
   "outputs": [
    {
     "name": "stdout",
     "output_type": "stream",
     "text": [
      "Avg %Difference: 0.05975857810655412\n",
      "Max %Difference: 0.2013333333333334\n"
     ]
    }
   ],
   "source": [
    "#Measuring variance between invoices sale amount and retail*pack\n",
    "\n",
    "#filter for invoices where sale amount doesn't equal retail*pack\n",
    "diff = df[((df['Sale (Dollars)'] - (df['Pack'] * df['State Bottle Retail']))>1)]\n",
    "\n",
    "#get the difference as a percentage of the sale amount\n",
    "diff = (diff['Sale (Dollars)'] - (diff['Pack'] * diff['State Bottle Retail'])) / diff['Sale (Dollars)']\n",
    "\n",
    "print(f\"Avg %Difference: {diff.mean()}\")\n",
    "print(f\"Max %Difference: {diff.max()}\")"
   ]
  }
 ],
 "metadata": {
  "kernelspec": {
   "display_name": "Python 3 (ipykernel)",
   "language": "python",
   "name": "python3"
  },
  "language_info": {
   "codemirror_mode": {
    "name": "ipython",
    "version": 3
   },
   "file_extension": ".py",
   "mimetype": "text/x-python",
   "name": "python",
   "nbconvert_exporter": "python",
   "pygments_lexer": "ipython3",
   "version": "3.9.12"
  }
 },
 "nbformat": 4,
 "nbformat_minor": 5
}
